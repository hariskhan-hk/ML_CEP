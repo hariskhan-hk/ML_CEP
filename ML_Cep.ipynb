{
  "nbformat": 4,
  "nbformat_minor": 0,
  "metadata": {
    "colab": {
      "provenance": [],
      "authorship_tag": "ABX9TyMo5O/cPzIogLOt7Cy74QzG",
      "include_colab_link": true
    },
    "kernelspec": {
      "name": "python3",
      "display_name": "Python 3"
    },
    "language_info": {
      "name": "python"
    }
  },
  "cells": [
    {
      "cell_type": "markdown",
      "metadata": {
        "id": "view-in-github",
        "colab_type": "text"
      },
      "source": [
        "<a href=\"https://colab.research.google.com/github/hariskhan-hk/ML_CEP/blob/main/ML_Cep.ipynb\" target=\"_parent\"><img src=\"https://colab.research.google.com/assets/colab-badge.svg\" alt=\"Open In Colab\"/></a>"
      ]
    },
    {
      "cell_type": "markdown",
      "source": [
        "**Effect of Gene Polymorphism on Renal Dysfunction After Liver Transplantation in Children**\n",
        "\n",
        "It has been demonstrated that by 3 years after transplant, renal failure develops in 16.5% of all nonrenal solid organ recipients. Hypothetical data from some study is presented in attached excel sheet showing that occurrence of disease (i.e. renal failure) depends on sex, genotype and TST (time since transplant in years). The data includes 60 children (male/female) who received a liver transplant. Renal dysfunction is presented as a binary outcome.\n",
        "\n",
        "a) Using some suitable software system, produce the binary logistic model from the given training data. (3)\n",
        "\n",
        "b) Compute the odds ratio for all the predictor variables (using the probability method) and interpret them appropriately. (4)\n",
        "\n",
        "c) Re-compute the odds ratios in sec (b) using the exponential formulas. (3)\n",
        "\n",
        "d) Compare the odds in favor of the patients having three years since transplant with the odds in favor of the patients having seven years since transplant. Also interpret it properly. (2)\n",
        "\n",
        "e) Evaluate the performance of the model in (a) from the given test data (see excel sheet). (3)"
      ],
      "metadata": {
        "id": "cTyLu1TfnZlF"
      }
    },
    {
      "cell_type": "code",
      "source": [
        "pip install pandas statsmodels numpy scikit-learn"
      ],
      "metadata": {
        "colab": {
          "base_uri": "https://localhost:8080/"
        },
        "id": "fTOlVY0y13g5",
        "outputId": "a78eadb0-69b6-49f4-a700-cb948396cfb0"
      },
      "execution_count": 100,
      "outputs": [
        {
          "output_type": "stream",
          "name": "stdout",
          "text": [
            "Requirement already satisfied: pandas in /usr/local/lib/python3.10/dist-packages (2.0.3)\n",
            "Requirement already satisfied: statsmodels in /usr/local/lib/python3.10/dist-packages (0.14.2)\n",
            "Requirement already satisfied: numpy in /usr/local/lib/python3.10/dist-packages (1.25.2)\n",
            "Requirement already satisfied: scikit-learn in /usr/local/lib/python3.10/dist-packages (1.2.2)\n",
            "Requirement already satisfied: python-dateutil>=2.8.2 in /usr/local/lib/python3.10/dist-packages (from pandas) (2.8.2)\n",
            "Requirement already satisfied: pytz>=2020.1 in /usr/local/lib/python3.10/dist-packages (from pandas) (2023.4)\n",
            "Requirement already satisfied: tzdata>=2022.1 in /usr/local/lib/python3.10/dist-packages (from pandas) (2024.1)\n",
            "Requirement already satisfied: scipy!=1.9.2,>=1.8 in /usr/local/lib/python3.10/dist-packages (from statsmodels) (1.11.4)\n",
            "Requirement already satisfied: patsy>=0.5.6 in /usr/local/lib/python3.10/dist-packages (from statsmodels) (0.5.6)\n",
            "Requirement already satisfied: packaging>=21.3 in /usr/local/lib/python3.10/dist-packages (from statsmodels) (24.1)\n",
            "Requirement already satisfied: joblib>=1.1.1 in /usr/local/lib/python3.10/dist-packages (from scikit-learn) (1.4.2)\n",
            "Requirement already satisfied: threadpoolctl>=2.0.0 in /usr/local/lib/python3.10/dist-packages (from scikit-learn) (3.5.0)\n",
            "Requirement already satisfied: six in /usr/local/lib/python3.10/dist-packages (from patsy>=0.5.6->statsmodels) (1.16.0)\n"
          ]
        }
      ]
    },
    {
      "cell_type": "markdown",
      "source": [
        "**Part (a): Produce the Binary Logistic Model from the Given Training Data**"
      ],
      "metadata": {
        "id": "MFq9kmcGoBs6"
      }
    },
    {
      "cell_type": "code",
      "execution_count": 101,
      "metadata": {
        "colab": {
          "base_uri": "https://localhost:8080/"
        },
        "id": "3oOOP_o0nA-R",
        "outputId": "0446a6e4-862b-40a7-f6ee-413de05a6a7d"
      },
      "outputs": [
        {
          "output_type": "stream",
          "name": "stdout",
          "text": [
            "<class 'pandas.core.frame.DataFrame'>\n",
            "RangeIndex: 60 entries, 0 to 59\n",
            "Data columns (total 5 columns):\n",
            " #   Column   Non-Null Count  Dtype  \n",
            "---  ------   --------------  -----  \n",
            " 0   ID       60 non-null     int64  \n",
            " 1   Sex      60 non-null     object \n",
            " 2   Type     60 non-null     object \n",
            " 3   TST      56 non-null     float64\n",
            " 4   Disease  60 non-null     object \n",
            "dtypes: float64(1), int64(1), object(3)\n",
            "memory usage: 2.5+ KB\n"
          ]
        }
      ],
      "source": [
        "import numpy as np\n",
        "import pandas as pd\n",
        "\n",
        "file_path = '/content/Dataset_CEP.xlsx'\n",
        "data = pd.read_excel(file_path, sheet_name='TrainingData')\n",
        "\n",
        "data.info()"
      ]
    },
    {
      "cell_type": "code",
      "source": [
        "roll_numbers = [3, 25, 33, 50]\n",
        "missing_tst_values = [roll_no % 7 for roll_no in roll_numbers]\n",
        "\n",
        "missing_indices = data[data['TST'].isna()].index\n",
        "data.loc[missing_indices, 'TST'] = missing_tst_values"
      ],
      "metadata": {
        "id": "E2DibfSgp4OO"
      },
      "execution_count": 102,
      "outputs": []
    },
    {
      "cell_type": "code",
      "source": [
        "data['Sex'] = data['Sex'].map({'Male': 0, 'Female': 1})\n",
        "data['Type'] = data['Type'].astype('category').cat.codes"
      ],
      "metadata": {
        "id": "dY2fqbzPwGWQ"
      },
      "execution_count": 103,
      "outputs": []
    },
    {
      "cell_type": "code",
      "source": [
        "import statsmodels.api as sm\n",
        "\n",
        "# Conversion of categorical variables to dummy variables\n",
        "X = pd.get_dummies(data[['Sex', 'Type', 'TST']], drop_first=True)\n",
        "y = pd.get_dummies(data['Disease'], drop_first=True)\n",
        "\n",
        "# Adding constant for intercept\n",
        "X = sm.add_constant(X)\n",
        "\n",
        "# Fitting the logistic regression model\n",
        "model = sm.Logit(y, X)\n",
        "result = model.fit()\n",
        "print(result.summary())"
      ],
      "metadata": {
        "colab": {
          "base_uri": "https://localhost:8080/"
        },
        "id": "EsRiWheI0nI1",
        "outputId": "94a5312b-a71e-4540-e7c5-680621b9bc0a"
      },
      "execution_count": 104,
      "outputs": [
        {
          "output_type": "stream",
          "name": "stdout",
          "text": [
            "Optimization terminated successfully.\n",
            "         Current function value: 0.547535\n",
            "         Iterations 6\n",
            "                           Logit Regression Results                           \n",
            "==============================================================================\n",
            "Dep. Variable:                Present   No. Observations:                   60\n",
            "Model:                          Logit   Df Residuals:                       56\n",
            "Method:                           MLE   Df Model:                            3\n",
            "Date:                Sat, 29 Jun 2024   Pseudo R-squ.:                  0.2075\n",
            "Time:                        21:43:19   Log-Likelihood:                -32.852\n",
            "converged:                       True   LL-Null:                       -41.455\n",
            "Covariance Type:            nonrobust   LLR p-value:                 0.0006408\n",
            "==============================================================================\n",
            "                 coef    std err          z      P>|z|      [0.025      0.975]\n",
            "------------------------------------------------------------------------------\n",
            "const         -3.7278      1.247     -2.988      0.003      -6.173      -1.283\n",
            "Sex           -0.1961      0.609     -0.322      0.747      -1.390       0.998\n",
            "Type           0.6933      0.405      1.711      0.087      -0.101       1.487\n",
            "TST            0.3148      0.099      3.173      0.002       0.120       0.509\n",
            "==============================================================================\n"
          ]
        }
      ]
    },
    {
      "cell_type": "markdown",
      "source": [
        "**Part (b): Compute the Odds Ratio for All the Predictor Variables Using the Probability Method and Interpret Them**"
      ],
      "metadata": {
        "id": "pJ2VKuCY1p4h"
      }
    },
    {
      "cell_type": "markdown",
      "source": [
        "# 1. Compute the Odd Ratios"
      ],
      "metadata": {
        "id": "OCkzV9162G1j"
      }
    },
    {
      "cell_type": "code",
      "source": [
        "odds_ratios_prob_method = np.exp(result.params)\n",
        "print(\"Odds Ratios (Probability Method):\")\n",
        "print(odds_ratios_prob_method)"
      ],
      "metadata": {
        "colab": {
          "base_uri": "https://localhost:8080/"
        },
        "id": "FgfoGE871pkv",
        "outputId": "148cc6dc-3d69-4050-b232-a8c03aa3b134"
      },
      "execution_count": 105,
      "outputs": [
        {
          "output_type": "stream",
          "name": "stdout",
          "text": [
            "Odds Ratios (Probability Method):\n",
            "const    0.024045\n",
            "Sex      0.821923\n",
            "Type     2.000294\n",
            "TST      1.369950\n",
            "dtype: float64\n"
          ]
        }
      ]
    },
    {
      "cell_type": "markdown",
      "source": [
        "# 2. Interpretation of Odds Ratios (Probability Method):"
      ],
      "metadata": {
        "id": "DTFzVKcI4_8H"
      }
    },
    {
      "cell_type": "markdown",
      "source": [
        "Intercept (const):\n",
        "\n",
        "The odds ratio for the intercept (const) is approximately 0.024.\n",
        "This suggests that when all predictors (Sex, Type, TST) are zero, the odds of renal dysfunction are very low.\n",
        "\n",
        "Sex:\n",
        "\n",
        "The odds ratio for Sex is approximately 0.822.\n",
        "This indicates that, holding other variables constant, females have lower odds of renal dysfunction compared to males.\n",
        "\n",
        "Type:\n",
        "\n",
        "The odds ratio for Type is approximately 2.000.\n",
        "This suggests that, holding other variables constant, individuals with this type have twice the odds of renal dysfunction compared to the reference category.\n",
        "\n",
        "TST:\n",
        "\n",
        "The odds ratio for TST is approximately 1.370.\n",
        "This indicates that, holding other variables constant, for each additional unit of TST (assuming TST is a continuous variable like years since transplant), the odds of renal dysfunction increase by approximately 1.37 times."
      ],
      "metadata": {
        "id": "NqMRKHFO2LOS"
      }
    },
    {
      "cell_type": "markdown",
      "source": [
        "**Part (c): Re-compute the Odds Ratios Using the Exponential Formulas**"
      ],
      "metadata": {
        "id": "AWiMXww63srE"
      }
    },
    {
      "cell_type": "code",
      "source": [
        "odds_ratios_exp_formula = pd.DataFrame({\n",
        "    'Variable': X.columns,\n",
        "    'Odds Ratio': result.params.apply(lambda x: np.exp(x))\n",
        "})\n",
        "print(\"Odds Ratios (Exponential Formula):\")\n",
        "print(odds_ratios_exp_formula)"
      ],
      "metadata": {
        "colab": {
          "base_uri": "https://localhost:8080/"
        },
        "id": "GvQ-ddvn11Ed",
        "outputId": "5d4c7240-51da-4c61-d52a-d6357a481dc3"
      },
      "execution_count": 106,
      "outputs": [
        {
          "output_type": "stream",
          "name": "stdout",
          "text": [
            "Odds Ratios (Exponential Formula):\n",
            "      Variable  Odds Ratio\n",
            "const    const    0.024045\n",
            "Sex        Sex    0.821923\n",
            "Type      Type    2.000294\n",
            "TST        TST    1.369950\n"
          ]
        }
      ]
    },
    {
      "cell_type": "markdown",
      "source": [
        "**Part (d): Compare the Odds for Patients Having Three Years Since Transplant with the Odds for Patients Having Seven Years Since Transplant and Interpret**"
      ],
      "metadata": {
        "id": "mZdTI3zd4smM"
      }
    },
    {
      "cell_type": "markdown",
      "source": [
        "# 1. Calculate the odds for TST = 3 and TST = 7:"
      ],
      "metadata": {
        "id": "Xh7a3uDK447d"
      }
    },
    {
      "cell_type": "code",
      "source": [
        "odds_3_years = np.exp(result.params['TST'] * 3)\n",
        "odds_7_years = np.exp(result.params['TST'] * 7)\n",
        "print(f\"Odds ratio for 3 years: {odds_3_years}\")\n",
        "print(f\"Odds ratio for 7 years: {odds_7_years}\")"
      ],
      "metadata": {
        "colab": {
          "base_uri": "https://localhost:8080/"
        },
        "id": "heAtNt2_4vpC",
        "outputId": "36fc82dc-9af4-4bdf-c95e-108507b3bbab"
      },
      "execution_count": 107,
      "outputs": [
        {
          "output_type": "stream",
          "name": "stdout",
          "text": [
            "Odds ratio for 3 years: 2.571068792589684\n",
            "Odds ratio for 7 years: 9.05590711921535\n"
          ]
        }
      ]
    },
    {
      "cell_type": "markdown",
      "source": [
        "# 2. Interpret the results:"
      ],
      "metadata": {
        "id": "ttDCfuE05HXz"
      }
    },
    {
      "cell_type": "markdown",
      "source": [
        "### Interpretation of Odds Ratios:\n",
        "\n",
        "1. **Odds Ratio for 3 years:**\n",
        "   - The odds ratio for 3 years since transplant is approximately 2.571.\n",
        "   - This indicates that, holding other variables constant, patients who have been transplanted for 3 years have about 2.571 times higher odds of renal dysfunction compared to patients who have been transplanted for 1 year.\n",
        "\n",
        "2. **Odds Ratio for 7 years:**\n",
        "   - The odds ratio for 7 years since transplant is approximately 9.056.\n",
        "   - This suggests that, holding other variables constant, patients who have been transplanted for 7 years have about 9.056 times higher odds of renal dysfunction compared to patients who have been transplanted for 1 year.\n",
        "\n",
        "### Comparison and Impact on Renal Dysfunction:\n",
        "\n",
        "- **Duration since transplant:** As the duration since transplant increases from 3 years to 7 years, there is a notable increase in the odds of renal dysfunction.\n",
        "\n",
        "- The odds ratio for 7 years (9.056) is significantly higher than for 3 years (2.571), indicating a greater impact of longer duration on increasing the odds of renal dysfunction.\n",
        "\n",
        "- This comparison highlights the progressive effect of time since transplant on renal dysfunction, emphasizing the importance of monitoring and potentially adjusting treatment strategies over time."
      ],
      "metadata": {
        "id": "Uv0fQJc75NmD"
      }
    },
    {
      "cell_type": "markdown",
      "source": [
        "**Part (e): Evaluate the Performance of the Model from Part (a) Using the Test Data**"
      ],
      "metadata": {
        "id": "8lUqeYSA6YNC"
      }
    },
    {
      "cell_type": "code",
      "source": [
        "test_data = pd.read_excel(file_path, sheet_name='TestData')"
      ],
      "metadata": {
        "id": "X1e-dOaZ6cLp"
      },
      "execution_count": 108,
      "outputs": []
    },
    {
      "cell_type": "code",
      "source": [
        "test_data['Sex'] = test_data['Sex'].map({'Male': 0, 'Female': 1})\n",
        "test_data['Type'] = test_data['Type'].astype('category').cat.codes"
      ],
      "metadata": {
        "id": "G0B62k-h6_MO"
      },
      "execution_count": 109,
      "outputs": []
    },
    {
      "cell_type": "code",
      "source": [
        "from sklearn.metrics import accuracy_score\n",
        "\n",
        "X_test = test_data[['Sex', 'Type', 'TST']]\n",
        "y_test = test_data['Disease']\n",
        "y_true_numeric = y_test.replace({'Absent': 0, 'Present': 1})\n",
        "X_test = sm.add_constant(X_test)\n",
        "\n",
        "predictions = result.predict(X_test)\n",
        "predictions_binary = [1 if p > 0.5 else 0 for p in predictions]\n",
        "\n",
        "accuracy = accuracy_score(y_true_numeric, predictions_binary)\n",
        "print(f\"Model accuracy: {accuracy}\")"
      ],
      "metadata": {
        "colab": {
          "base_uri": "https://localhost:8080/"
        },
        "id": "ygF4JQ-_8Bg6",
        "outputId": "539c2c2e-17de-41d6-a789-98577a3e7866"
      },
      "execution_count": 110,
      "outputs": [
        {
          "output_type": "stream",
          "name": "stdout",
          "text": [
            "Model accuracy: 0.5714285714285714\n"
          ]
        }
      ]
    }
  ]
}